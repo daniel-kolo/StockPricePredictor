{
 "cells": [
  {
   "cell_type": "code",
   "execution_count": 1,
   "metadata": {},
   "outputs": [],
   "source": [
    "#imports\n",
    "\n",
    "from FinanceDataManager import FinanceDataManager\n",
    "from Preprocessing import  Preprocessing\n",
    "from LSTM_Network import LSTM_Network\n"
   ]
  },
  {
   "cell_type": "code",
   "execution_count": null,
   "metadata": {},
   "outputs": [
    {
     "name": "stdout",
     "output_type": "stream",
     "text": [
      "Train on 3379 samples\n",
      "Epoch 1/50\n",
      "3379/3379 [==============================] - 4s 1ms/sample - loss: 0.0062\n",
      "Epoch 2/50\n",
      "3379/3379 [==============================] - 1s 320us/sample - loss: 1.3677e-04\n",
      "Epoch 3/50\n",
      "3379/3379 [==============================] - 1s 314us/sample - loss: 1.1611e-04\n",
      "Epoch 4/50\n",
      "3379/3379 [==============================] - 1s 299us/sample - loss: 1.0865e-04\n",
      "Epoch 5/50\n",
      "3379/3379 [==============================] - 1s 316us/sample - loss: 1.0979e-04\n",
      "Epoch 6/50\n",
      "3379/3379 [==============================] - 1s 323us/sample - loss: 1.1748e-04\n",
      "Epoch 7/50\n",
      " 416/3379 [==>...........................] - ETA: 0s - loss: 9.3172e-05"
     ]
    }
   ],
   "source": [
    "finance_data_manager = FinanceDataManager(\"AAPL\", start = \"2003-01-01\", end = \"2017-01-01\")\n",
    "prices = finance_data_manager.get_prices()\n",
    "\n",
    "prep = Preprocessing(\"stock_prices.csv\", 0.9)\n",
    "prep.gen_train(10)\n",
    "prep.gen_test(10)\n",
    "\n",
    "X_train = prep.X_train.reshape((3379, 10, 1)) / 200\n",
    "Y_train = prep.Y_train / 200\n",
    "\n",
    "X_test = prep.X_test.reshape(359, 10, 1) / 200\n",
    "Y_test = prep.Y_test / 200\n",
    "\n",
    "LSTM = LSTM_Network(X_train, X_test , Y_train, Y_test)\n",
    "LSTM.train()\n",
    "LSTM.evaluate()"
   ]
  },
  {
   "cell_type": "code",
   "execution_count": null,
   "metadata": {},
   "outputs": [],
   "source": []
  }
 ],
 "metadata": {
  "kernelspec": {
   "display_name": "Python 3",
   "language": "python",
   "name": "python3"
  },
  "language_info": {
   "codemirror_mode": {
    "name": "ipython",
    "version": 3
   },
   "file_extension": ".py",
   "mimetype": "text/x-python",
   "name": "python",
   "nbconvert_exporter": "python",
   "pygments_lexer": "ipython3",
   "version": "3.7.4"
  }
 },
 "nbformat": 4,
 "nbformat_minor": 2
}
