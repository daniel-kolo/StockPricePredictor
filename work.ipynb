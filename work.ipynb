{
 "cells": [
  {
   "cell_type": "code",
   "execution_count": 8,
   "metadata": {},
   "outputs": [],
   "source": [
    "#imports\n",
    "\n",
    "import pandas_datareader.data as pdr\n",
    "import yfinance as yf\n",
    "import time"
   ]
  },
  {
   "cell_type": "code",
   "execution_count": 23,
   "metadata": {},
   "outputs": [
    {
     "name": "stdout",
     "output_type": "stream",
     "text": [
      "             Open   High    Low  Close  Volume  Dividends  Stock Splits\n",
      "Date                                                                   \n",
      "2017-10-02  0.045  0.045  0.045  0.045    3000          0             0\n",
      "2017-10-03  0.007  0.007  0.007  0.007       0          0             0\n",
      "2017-10-04  0.007  0.007  0.007  0.007       0          0             0\n",
      "2017-10-05  0.040  0.040  0.040  0.040       0          0             0\n",
      "2017-10-06  0.040  0.040  0.040  0.040       0          0             0\n",
      "...           ...    ...    ...    ...     ...        ...           ...\n",
      "2018-01-24  0.055  0.055  0.055  0.055    7000          0             0\n",
      "2018-01-25  0.055  0.055  0.055  0.055    1160          0             0\n",
      "2018-01-26  0.050  0.050  0.050  0.050    1800          0             0\n",
      "2018-01-29  0.060  0.060  0.050  0.050   60817          0             0\n",
      "2018-01-30  0.050  0.050  0.045  0.050  150100          0             0\n",
      "\n",
      "[83 rows x 7 columns]\n"
     ]
    }
   ],
   "source": [
    "#Setting up the finance API\n",
    "\n",
    "google = yf.Ticker(\"SPX\")\n",
    "\n",
    "google.info\n",
    "\n",
    "history = google.history(period=\"2y\")\n",
    "print(history)"
   ]
  },
  {
   "cell_type": "code",
   "execution_count": null,
   "metadata": {},
   "outputs": [],
   "source": []
  }
 ],
 "metadata": {
  "kernelspec": {
   "display_name": "Python 3",
   "language": "python",
   "name": "python3"
  },
  "language_info": {
   "codemirror_mode": {
    "name": "ipython",
    "version": 3
   },
   "file_extension": ".py",
   "mimetype": "text/x-python",
   "name": "python",
   "nbconvert_exporter": "python",
   "pygments_lexer": "ipython3",
   "version": "3.7.4"
  }
 },
 "nbformat": 4,
 "nbformat_minor": 2
}
